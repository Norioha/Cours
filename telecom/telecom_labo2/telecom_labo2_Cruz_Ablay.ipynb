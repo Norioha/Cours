{
 "cells": [
  {
   "cell_type": "markdown",
   "metadata": {},
   "source": [
    "\n",
    "# Bases des télécommunications 1\n",
    "\n",
    "Date : 10 novembre 2023\n",
    "\n",
    "Étudiants : \\<Christopher Cruz, Jemoel Ablay>"
   ]
  },
  {
   "cell_type": "markdown",
   "metadata": {},
   "source": [
    "\n",
    "## __Introduction__\n",
    "\n",
    "Le but de ce laboratoire est de mettre en pratique les concepts de compression de données vus en classe de Bases des\n",
    "Télécommunications. On travaillera sur la compression d’un fichier texte\n",
    "\n",
    "- Le rendu du **jupyter notebook** doit se faire sur __cyberlearn__ sous le format de nom de fichier \"telecom_labo2_\\<nom1\\>_\\<nom2\\>.ipynb\" \n",
    "- Le fichier texte utilisé ici doit être encodé en UTF-8 (sans BOM), vous pouvez le vérifier avec Notepad++ par exemple.\n",
    "- Exemple de code python 3 pour ouvrir en lecture un fichier texte en UTF-8 : __*open(INPUT, \"r\", encoding=\"UTF-8\")*__\n"
   ]
  },
  {
   "cell_type": "markdown",
   "metadata": {},
   "source": [
    "# III. Shannon-Fano\n",
    "\n",
    "On veut construire un code de Shannon-Fano pour compresser notre fichier texte. On part du\n",
    "principe que l'arbre de codage généré n’a pas besoin d’être transmis dans le fichier compressé.\n",
    "\n",
    "a) Comme le codage de Huffman, réalisez ci-dessous un programme qui lit un fichier texte, puis générez un codage de\n",
    "Shannon-Fano pour les caractères de ce fichier. Votre programme doit afficher le code\n",
    "binaire choisi pour chaque caractère.\n",
    "\n",
    "\n",
    "Exemple :\n",
    "\n",
    "<table>\n",
    "<thead>\n",
    "    <tr>\n",
    "        <th>char</th>\n",
    "        <th>hex</th>\n",
    "        <th>binary</th>\n",
    "    </tr>\n",
    "</thead>\n",
    "<tr>\n",
    "    <td>a</td>\n",
    "    <td>0x61</td>\n",
    "    <td>11</td>\n",
    "</tr>\n",
    "<tr>\n",
    "    <td>b</td>\n",
    "    <td>0x62</td>\n",
    "    <td>10</td>\n",
    "</tr>\n",
    "<tr>\n",
    "    <td>@</td>\n",
    "    <td>0x40</td>\n",
    "    <td>00</td>\n",
    "</tr>\n",
    "<tr>\n",
    "    <td>c</td>\n",
    "    <td>0x63</td>\n",
    "    <td>011</td>\n",
    "</tr>\n",
    "<tr>\n",
    "    <td>A</td>\n",
    "    <td>0x41</td>\n",
    "    <td>010</td>\n",
    "</tr>\n",
    "</table>"
   ]
  },
  {
   "cell_type": "code",
   "execution_count": 5,
   "metadata": {
    "scrolled": true
   },
   "outputs": [
    {
     "ename": "FileNotFoundError",
     "evalue": "[Errno 2] No such file or directory: 'input.txt'",
     "output_type": "error",
     "traceback": [
      "\u001b[1;31m---------------------------------------------------------------------------\u001b[0m",
      "\u001b[1;31mFileNotFoundError\u001b[0m                         Traceback (most recent call last)",
      "\u001b[1;32mc:\\Users\\chris\\Desktop\\Code\\Cours\\telecom\\telecom_labo2\\telecom_labo2_Cruz_Ablay.ipynb Cell 4\u001b[0m line \u001b[0;36m6\n\u001b[0;32m     <a href='vscode-notebook-cell:/c%3A/Users/chris/Desktop/Code/Cours/telecom/telecom_labo2/telecom_labo2_Cruz_Ablay.ipynb#W3sZmlsZQ%3D%3D?line=63'>64</a>\u001b[0m     compressed_text, codes \u001b[39m=\u001b[39m compress(text)\n\u001b[0;32m     <a href='vscode-notebook-cell:/c%3A/Users/chris/Desktop/Code/Cours/telecom/telecom_labo2/telecom_labo2_Cruz_Ablay.ipynb#W3sZmlsZQ%3D%3D?line=64'>65</a>\u001b[0m     \u001b[39mreturn\u001b[39;00m compressed_text\n\u001b[1;32m---> <a href='vscode-notebook-cell:/c%3A/Users/chris/Desktop/Code/Cours/telecom/telecom_labo2/telecom_labo2_Cruz_Ablay.ipynb#W3sZmlsZQ%3D%3D?line=65'>66</a>\u001b[0m main()\n",
      "\u001b[1;32mc:\\Users\\chris\\Desktop\\Code\\Cours\\telecom\\telecom_labo2\\telecom_labo2_Cruz_Ablay.ipynb Cell 4\u001b[0m line \u001b[0;36m4\n\u001b[0;32m     <a href='vscode-notebook-cell:/c%3A/Users/chris/Desktop/Code/Cours/telecom/telecom_labo2/telecom_labo2_Cruz_Ablay.ipynb#W3sZmlsZQ%3D%3D?line=38'>39</a>\u001b[0m \u001b[39mdef\u001b[39;00m \u001b[39mmain\u001b[39m():\n\u001b[1;32m---> <a href='vscode-notebook-cell:/c%3A/Users/chris/Desktop/Code/Cours/telecom/telecom_labo2/telecom_labo2_Cruz_Ablay.ipynb#W3sZmlsZQ%3D%3D?line=39'>40</a>\u001b[0m     codes \u001b[39m=\u001b[39m get_compress()\n\u001b[0;32m     <a href='vscode-notebook-cell:/c%3A/Users/chris/Desktop/Code/Cours/telecom/telecom_labo2/telecom_labo2_Cruz_Ablay.ipynb#W3sZmlsZQ%3D%3D?line=40'>41</a>\u001b[0m     display(codes)\n",
      "\u001b[1;32mc:\\Users\\chris\\Desktop\\Code\\Cours\\telecom\\telecom_labo2\\telecom_labo2_Cruz_Ablay.ipynb Cell 4\u001b[0m line \u001b[0;36m6\n\u001b[0;32m     <a href='vscode-notebook-cell:/c%3A/Users/chris/Desktop/Code/Cours/telecom/telecom_labo2/telecom_labo2_Cruz_Ablay.ipynb#W3sZmlsZQ%3D%3D?line=58'>59</a>\u001b[0m \u001b[39mdef\u001b[39;00m \u001b[39mget_compress\u001b[39m():\n\u001b[0;32m     <a href='vscode-notebook-cell:/c%3A/Users/chris/Desktop/Code/Cours/telecom/telecom_labo2/telecom_labo2_Cruz_Ablay.ipynb#W3sZmlsZQ%3D%3D?line=59'>60</a>\u001b[0m     text_path \u001b[39m=\u001b[39m \u001b[39m'\u001b[39m\u001b[39minput.txt\u001b[39m\u001b[39m'\u001b[39m\n\u001b[1;32m---> <a href='vscode-notebook-cell:/c%3A/Users/chris/Desktop/Code/Cours/telecom/telecom_labo2/telecom_labo2_Cruz_Ablay.ipynb#W3sZmlsZQ%3D%3D?line=60'>61</a>\u001b[0m     \u001b[39mwith\u001b[39;00m \u001b[39mopen\u001b[39;49m(text_path, \u001b[39m'\u001b[39;49m\u001b[39mr\u001b[39;49m\u001b[39m'\u001b[39;49m, encoding\u001b[39m=\u001b[39;49m\u001b[39m\"\u001b[39;49m\u001b[39mUTF-8\u001b[39;49m\u001b[39m\"\u001b[39;49m) \u001b[39mas\u001b[39;00m file:\n\u001b[0;32m     <a href='vscode-notebook-cell:/c%3A/Users/chris/Desktop/Code/Cours/telecom/telecom_labo2/telecom_labo2_Cruz_Ablay.ipynb#W3sZmlsZQ%3D%3D?line=61'>62</a>\u001b[0m         text \u001b[39m=\u001b[39m file\u001b[39m.\u001b[39mread()\n\u001b[0;32m     <a href='vscode-notebook-cell:/c%3A/Users/chris/Desktop/Code/Cours/telecom/telecom_labo2/telecom_labo2_Cruz_Ablay.ipynb#W3sZmlsZQ%3D%3D?line=62'>63</a>\u001b[0m         file\u001b[39m.\u001b[39mclose()\n",
      "File \u001b[1;32m~\\AppData\\Local\\Packages\\PythonSoftwareFoundation.Python.3.10_qbz5n2kfra8p0\\LocalCache\\local-packages\\Python310\\site-packages\\IPython\\core\\interactiveshell.py:310\u001b[0m, in \u001b[0;36m_modified_open\u001b[1;34m(file, *args, **kwargs)\u001b[0m\n\u001b[0;32m    303\u001b[0m \u001b[39mif\u001b[39;00m file \u001b[39min\u001b[39;00m {\u001b[39m0\u001b[39m, \u001b[39m1\u001b[39m, \u001b[39m2\u001b[39m}:\n\u001b[0;32m    304\u001b[0m     \u001b[39mraise\u001b[39;00m \u001b[39mValueError\u001b[39;00m(\n\u001b[0;32m    305\u001b[0m         \u001b[39mf\u001b[39m\u001b[39m\"\u001b[39m\u001b[39mIPython won\u001b[39m\u001b[39m'\u001b[39m\u001b[39mt let you open fd=\u001b[39m\u001b[39m{\u001b[39;00mfile\u001b[39m}\u001b[39;00m\u001b[39m by default \u001b[39m\u001b[39m\"\u001b[39m\n\u001b[0;32m    306\u001b[0m         \u001b[39m\"\u001b[39m\u001b[39mas it is likely to crash IPython. If you know what you are doing, \u001b[39m\u001b[39m\"\u001b[39m\n\u001b[0;32m    307\u001b[0m         \u001b[39m\"\u001b[39m\u001b[39myou can use builtins\u001b[39m\u001b[39m'\u001b[39m\u001b[39m open.\u001b[39m\u001b[39m\"\u001b[39m\n\u001b[0;32m    308\u001b[0m     )\n\u001b[1;32m--> 310\u001b[0m \u001b[39mreturn\u001b[39;00m io_open(file, \u001b[39m*\u001b[39margs, \u001b[39m*\u001b[39m\u001b[39m*\u001b[39mkwargs)\n",
      "\u001b[1;31mFileNotFoundError\u001b[0m: [Errno 2] No such file or directory: 'input.txt'"
     ]
    }
   ],
   "source": [
    "from collections import Counter\n",
    "\n",
    "# exercice a.\n",
    "\n",
    "#Calculer la fréquence de chaque caractère dans le texte\n",
    "def calc_freq(text):\n",
    "    return Counter(text)\n",
    "\n",
    "#Diviser l'ensemble de symboles en deux parties de fréquences totales aussi égales que possible\n",
    "def divide_frequencies(freqs):\n",
    "    sorted_freqs = sorted(freqs.items(), key=lambda x: -x[1])\n",
    "    total = sum(f for i, f in sorted_freqs)\n",
    "    mid = total // 2\n",
    "    current = 0\n",
    "    divider = 0\n",
    "    while current < mid:\n",
    "        current += sorted_freqs[divider][1]\n",
    "        divider += 1\n",
    "    return dict(sorted_freqs[:divider]), dict(sorted_freqs[divider:])\n",
    "\n",
    "#Attribuer un 0 ou 1 à chaque partie et répéter le processus pour sous-ensemble\n",
    "def shannon_fano_codes(freqs, prefix=''):\n",
    "    if len(freqs) == 1:\n",
    "        return {list(freqs.keys())[0]: prefix or '0'}\n",
    "    group1, group2 = divide_frequencies(freqs)\n",
    "    codes = {}\n",
    "    codes.update(shannon_fano_codes(group1, prefix + '0'))\n",
    "    codes.update(shannon_fano_codes(group2, prefix + '1'))\n",
    "    return codes\n",
    "\n",
    "#Compresser le texte en utilisant le dictionnaire de codes\n",
    "def compress(text):\n",
    "    freq_dict = calc_freq(text)\n",
    "    codes = shannon_fano_codes(freq_dict)\n",
    "    compressed_text = \"\".join([codes[char] for char in text])\n",
    "    return compressed_text, codes\n",
    "\n",
    "#Fonction principale pour tester l'algorithme\n",
    "def main():\n",
    "    codes = get_compress()\n",
    "    display(codes)\n",
    "\n",
    "#Affichage du résultat\n",
    "def display(shanon):\n",
    "    print(\"lettre | hexa | binaire\")\n",
    "    for key, value in shanon.items():\n",
    "        print(f\"{key} : {hex(ord(key))} : {value}\")\n",
    "\n",
    "def get_code():\n",
    "    text_path = 'input.txt'\n",
    "    with open(text_path, 'r', encoding=\"UTF-8\") as file:\n",
    "        text = file.read()\n",
    "        file.close()\n",
    "    compressed_text, codes = compress(text)\n",
    "    return codes\n",
    "\n",
    "    \n",
    "    \n",
    "def get_compress():\n",
    "    text_path = 'input.txt'\n",
    "    with open(text_path, 'r', encoding=\"UTF-8\") as file:\n",
    "        text = file.read()\n",
    "        file.close()\n",
    "    compressed_text, codes = compress(text)\n",
    "    return compressed_text\n",
    "main()\n"
   ]
  },
  {
   "cell_type": "markdown",
   "metadata": {},
   "source": [
    "b) Afficher le taux moyen de bits par caractère de votre code, dans la console."
   ]
  },
  {
   "cell_type": "code",
   "execution_count": 82,
   "metadata": {},
   "outputs": [
    {
     "name": "stdout",
     "output_type": "stream",
     "text": [
      "5.909090909090909\n"
     ]
    }
   ],
   "source": [
    "codes = get_code()\n",
    "byteSum = 0\n",
    "for value, code in codes.items():\n",
    "    byteSum += len(code)\n",
    "averageBytes = byteSum / len(codes)\n",
    "print(averageBytes)"
   ]
  },
  {
   "cell_type": "markdown",
   "metadata": {},
   "source": [
    " c) Que pouvez-vous conclure du résultat obtenu à l'exercice b) et de l’entropie du point (I.c), en une phrase ?\n"
   ]
  },
  {
   "cell_type": "markdown",
   "metadata": {},
   "source": [
    "**TODO: Réponse c)**\n",
    "Ils sont aproximativement les même mais pas exactement car dans la méthode Shanon_Fano on a du faire en sorte que les 2 ensembles de fréquence s'approche le plus possible de la moitié mais on est limité dans le nombre de lettres donc la précision sera moins bien, en conclusion l'entropie est plus grand avec cette méthode."
   ]
  },
  {
   "cell_type": "markdown",
   "metadata": {},
   "source": [
    "d) Compresser le fichier texte d’input dans un nouveau fichier binaire à l'aide de votre arbre de codage. Si la longueur du message codé n’est pas un multiple de 8, rajouter des bits 0 à la fin. Le\n",
    "fichier compressé doit avoir une taille sur disque significativement plus petite que\n",
    "celui de base."
   ]
  },
  {
   "cell_type": "code",
   "execution_count": 91,
   "metadata": {},
   "outputs": [],
   "source": [
    "# exercice d.\n",
    "compressed_text = get_compress()\n",
    "\n",
    "#Ajout de 0 pour que la longueur du text soit un multiple de 8\n",
    "while len(compressed_text) % 8 != 0:\n",
    "    compressed_text += '0'\n",
    "\n",
    "#Ecrire la séquance binaire dans un fichier binaire (.bin)\n",
    "with open('shannon.bin', 'wb') as bin_file:\n",
    "    byte_data = bytes(int(compressed_text[i:i+8], 2) for i in range(0, len(compressed_text), 8))\n",
    "    bin_file.write(byte_data)"
   ]
  },
  {
   "cell_type": "markdown",
   "metadata": {},
   "source": [
    "e) Que manquerait-il a ce fichier binaire pour pouvoir être décodé par n’importe qui ?\n",
    "(Bonus)"
   ]
  },
  {
   "cell_type": "markdown",
   "metadata": {},
   "source": [
    "**TODO: Bonus e)**"
   ]
  },
  {
   "cell_type": "markdown",
   "metadata": {},
   "source": [
    "# IV. Bonus"
   ]
  },
  {
   "cell_type": "markdown",
   "metadata": {},
   "source": [
    "⚠️ Difficile ⚠️ Pas obligatoire\n",
    "\n",
    "Implémentez par vos moyens la compression de Lempel-Ziv-Welch ([Wikipedia](https://en.wikipedia.org/wiki/Lempel%E2%80%93Ziv%E2%80%93Welch)) et réalisez une étude comparative de cette méthode avec celles vues en cours."
   ]
  },
  {
   "cell_type": "code",
   "execution_count": null,
   "metadata": {},
   "outputs": [],
   "source": []
  }
 ],
 "metadata": {
  "kernelspec": {
   "display_name": "Python 3 (ipykernel)",
   "language": "python",
   "name": "python3"
  },
  "language_info": {
   "codemirror_mode": {
    "name": "ipython",
    "version": 3
   },
   "file_extension": ".py",
   "mimetype": "text/x-python",
   "name": "python",
   "nbconvert_exporter": "python",
   "pygments_lexer": "ipython3",
   "version": "3.10.11"
  }
 },
 "nbformat": 4,
 "nbformat_minor": 4
}
