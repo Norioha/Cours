{
 "cells": [
  {
   "cell_type": "markdown",
   "metadata": {},
   "source": [
    "# Bases des télécommunications 1 : Codage de Huffman \n",
    "\n",
    "## __Introduction__\n",
    "\n",
    "Le but de ce laboratoire est de mettre en pratique les concepts de compression de données vus en classe de Bases des\n",
    "Télécommunications. On travaillera sur la compression d’un fichier texte\n",
    "\n",
    "- Le rendu du **jupyter notebook** doit se faire sur __cyberlearn__ avec le nom de fichier : `telecom_labo1_<nom1>_<nom2>_<nom du groupe>.ipynb`\n",
    "- Le fichier texte utilisé ici doit être encodé en UTF-8 (sans BOM), vous pouvez le vérifier avec Notepad++ par exemple.\n",
    "- Exemple de code python 3 pour ouvrir en lecture un fichier texte en UTF-8 : __*open(INPUT, \"r\", encoding=\"UTF-8\")*__\n"
   ]
  },
  {
   "cell_type": "markdown",
   "metadata": {},
   "source": [
    "Noms des élèves : `Christopher Cruz, Ablay`"
   ]
  },
  {
   "cell_type": "markdown",
   "metadata": {},
   "source": [
    "<h2>I. Tris alphabétique + fréquentiel</h2>\n",
    "\n",
    "a)  Réalisez  ci-dessous un programme qui lit un fichier texte (input.txt), puis en écrit un nouveau (out1.txt)\n",
    "en écrivant tous les caractères dans l’ordre alphabétique (ordre de leur valeur\n",
    "ASCII).\n",
    "Exemple : **abb@acA → @Aaabbc** (La fonction `sorted` de Python 3 pourrait vous aider, tout comme l’utilisation\n",
    "de dictionnaires)"
   ]
  },
  {
   "cell_type": "code",
   "execution_count": 100,
   "metadata": {},
   "outputs": [
    {
     "name": "stdout",
     "output_type": "stream",
     "text": [
      "\n",
      "\n",
      "\n",
      "                                                             ''''',.......CCDDDIIILLLaaaaaaaaaaaaaaaaaaaaaaabbbcccccccddddddddddddeeeeeeeeeeeeeeeeeeeeeeeeeeeeeeeeeeeeeeeeeeeeeeeeefggiiiiiiiiiiiiiiiiiiilllllllllllllllmmmmmmmmmmmmnnnnnnnnnnnnnnnnnnnnnnnooooooooooooooooopppppppppqqqrrrrrrrrrrrrrrrrrrrrssssssssssssssssssssssssttttttttttttttttttttttttttttttttttuuuuuuuuuuuuuuuuuuuuuuuuuvvvvxxxxxàçèééééé\n"
     ]
    },
    {
     "data": {
      "text/plain": [
       "403"
      ]
     },
     "execution_count": 100,
     "metadata": {},
     "output_type": "execute_result"
    }
   ],
   "source": [
    "# exercice a.\n",
    "\n",
    "with open(\"Labo1/input.txt\") as text:\n",
    "    string = text.read()\n",
    "res = \"\"\n",
    "res = sorted(string)\n",
    "output = \"\";\n",
    "for i in res:\n",
    "    output += i;\n",
    "\n",
    "print(output)\n",
    "file = open(\"output.txt\",\"w\")\n",
    "file.write(output)\n"
   ]
  },
  {
   "cell_type": "markdown",
   "metadata": {},
   "source": [
    "b) Ajoutez à votre premier programme la possibilité d'écrire dans un nouveau fichier texte\n",
    "(out2.txt), mais cette fois, les données sont triés dans l’**ordre des fréquences d’apparition décroissante**.\n",
    "\n",
    "``Exemple : abb@acA → aabb@Ac``\n",
    "\n",
    "Votre programme doit afficher dans la console, la fréquence d’apparition pour\n",
    "chaque caractère. (Ainsi que la valeur ascii, hexadécimal et la fréquence d'apparition du caractère)\n",
    "\n",
    "Exemple : \n",
    "\n",
    "<table>\n",
    "<tr>\n",
    "    <td>a</td>\n",
    "    <td>0x61</td>\n",
    "    <td>0.285</td>\n",
    "</tr>\n",
    "<tr>\n",
    "    <td>b</td>\n",
    "    <td>0x62</td>\n",
    "    <td>0.285</td>\n",
    "</tr>\n",
    "<tr>\n",
    "    <td>A</td>\n",
    "    <td>0x41</td>\n",
    "    <td>0.142</td>\n",
    "</tr>\n",
    "</table>\n",
    "\n"
   ]
  },
  {
   "cell_type": "code",
   "execution_count": 103,
   "metadata": {},
   "outputs": [
    {
     "name": "stdout",
     "output_type": "stream",
     "text": [
      "403\n"
     ]
    },
    {
     "ename": "KeyError",
     "evalue": "'\\n'",
     "output_type": "error",
     "traceback": [
      "\u001b[0;31m---------------------------------------------------------------------------\u001b[0m",
      "\u001b[0;31mKeyError\u001b[0m                                  Traceback (most recent call last)",
      "Cell \u001b[0;32mIn[103], line 12\u001b[0m\n\u001b[1;32m      9\u001b[0m \u001b[38;5;28mprint\u001b[39m(\u001b[38;5;28mlen\u001b[39m(string));\n\u001b[1;32m     11\u001b[0m \u001b[38;5;28;01mfor\u001b[39;00m i \u001b[38;5;129;01min\u001b[39;00m sorted_res: \n\u001b[0;32m---> 12\u001b[0m     frequence[i] \u001b[38;5;241m+\u001b[39m\u001b[38;5;241m=\u001b[39m \u001b[38;5;241m1\u001b[39m\n\u001b[1;32m     14\u001b[0m  \u001b[38;5;66;03m#sorted_frequence = sorted(frequence.items(),reverse=True,key=lambda x:x[0]); \u001b[39;00m\n\u001b[1;32m     15\u001b[0m \u001b[38;5;66;03m#  [hex(ord(i)),round(string.count(i)/len(string),3)]\u001b[39;00m\n\u001b[1;32m     16\u001b[0m \u001b[38;5;28mprint\u001b[39m(frequence)\n",
      "\u001b[0;31mKeyError\u001b[0m: '\\n'"
     ]
    }
   ],
   "source": [
    "# exercice b.\n",
    "string = \"\";\n",
    "with open(\"Labo1/input.txt\") as text:\n",
    "    string = text.read()\n",
    "sorted_res = \"\"\n",
    "sorted_res = sorted(string)\n",
    "frequence = {};\n",
    "\n",
    "print(len(string));\n",
    "\n",
    "for i in sorted_res: \n",
    "    frequence[i] += 1    \n",
    " #sorted_frequence = sorted(frequence.items(),reverse=True,key=lambda x:x[0]); \n",
    "#[hex(ord(i)),round(string.count(i)/len(string),3)]\n",
    "print(frequence)"
   ]
  },
  {
   "cell_type": "markdown",
   "metadata": {},
   "source": [
    "c) Améliorez votre programme pour qu’il calcule l’entropie, la quantité de décision,\n",
    "la redondance et le taux de compression maximal du fichier. Le tout est à afficher\n",
    "dans la console.\n",
    "\n",
    "**⚠️ N’oubliez pas que les espaces, la ponctuation et le retour chariot sont aussi considéré comme des\n",
    "caractères. \n",
    "Votre programme doit pouvoir traiter ces caractères de manière adéquate.**\n"
   ]
  },
  {
   "cell_type": "code",
   "execution_count": 64,
   "metadata": {},
   "outputs": [
    {
     "name": "stdout",
     "output_type": "stream",
     "text": [
      "Entropie : 4.442632387911308\n",
      "Quantité : 6.94251450533924\n",
      "Redondance : 2.4998821174279318\n",
      "Compression : \n"
     ]
    }
   ],
   "source": [
    "# exercice c.\n",
    "import math\n",
    "string = \"\";\n",
    "with open(\"Labo1/input2.txt\") as text: \n",
    "    string = text.readline()\n",
    "frequence = {}\n",
    "\n",
    "for i in lignes: \n",
    "        frequence[i] = [hex(ord(i)),round(lignes.count(i)/len(ligneTab),3)]\n",
    "    \n",
    "sorted_frequence = sorted(frequence.items(),reverse=True,key=lambda x:x[1]);\n",
    "\n",
    "def H():\n",
    "    H = 0\n",
    "    for i in frequence: \n",
    "        H += frequence[i][1] * -math.log2(frequence[i][1])\n",
    "    return H\n",
    "\n",
    "D = math.log2(len(ligneTab));\n",
    "compression = len(LigneTab)/;\n",
    "print(\"Entropie : \" + str(H()));\n",
    "print(\"Quantité : \" + str(D));\n",
    "print(\"Redondance : \" + str(D - H()));\n",
    "print(\"Compression : \")\n"
   ]
  },
  {
   "cell_type": "markdown",
   "metadata": {},
   "source": [
    "<h2>II. Code de Huffman</h2>\n",
    "\n",
    "On veut construire un code de Huffman pour compresser notre fichier texte. On part du principe\n",
    "que le code n’a pas besoin d’être transmis dans le fichier compressé. \n"
   ]
  },
  {
   "cell_type": "markdown",
   "metadata": {},
   "source": [
    "a) À partir de l’exercice précédent (utilisez les mêmes valeurs précement calculées), écrivez un code générant un codage de Huffman pour\n",
    "les caractères de ce fichier. Votre programme doit imprimer l'arbre de codage que vous avez générer. Affichez la valeur ASCII des\n",
    "charactères ainsi que leur code binaire généré par codage de Huffman."
   ]
  },
  {
   "cell_type": "markdown",
   "metadata": {},
   "source": [
    "Exemple:\n",
    "\n",
    "<table>\n",
    "<tr>\n",
    "    <td>0x61</td>\n",
    "    <td>11</td>\n",
    "</tr>\n",
    "<tr>\n",
    "    <td>0x62</td>\n",
    "    <td>10</td>\n",
    "</tr>\n",
    "<tr>\n",
    "    <td>0x40</td>\n",
    "    <td>00</td>\n",
    "</tr>\n",
    "<tr>\n",
    "    <td>0x63</td>\n",
    "    <td>011</td>\n",
    "</tr>\n",
    "<tr>\n",
    "    <td>0x41</td>\n",
    "    <td>010</td>\n",
    "</tr>\n",
    "</table>"
   ]
  },
  {
   "cell_type": "code",
   "execution_count": 68,
   "metadata": {},
   "outputs": [
    {
     "name": "stdout",
     "output_type": "stream",
     "text": [
      "A\n",
      "v\n",
      "e\n",
      "r\n",
      "t\n",
      "i\n",
      "s\n",
      "s\n",
      "e\n",
      "m\n",
      "e\n",
      "n\n",
      "t\n",
      " \n",
      ":\n",
      " \n",
      "U\n",
      "t\n",
      "i\n",
      "l\n",
      "i\n",
      "s\n",
      "a\n",
      "t\n",
      "i\n",
      "o\n",
      "n\n",
      " \n",
      "R\n",
      "e\n",
      "s\n",
      "p\n",
      "o\n",
      "n\n",
      "s\n",
      "a\n",
      "b\n",
      "l\n",
      "e\n",
      " \n",
      "d\n",
      "e\n",
      "s\n",
      " \n",
      "M\n",
      "o\n",
      "d\n",
      "è\n",
      "l\n",
      "e\n",
      "s\n",
      " \n",
      "d\n",
      "e\n",
      " \n",
      "L\n",
      "a\n",
      "n\n",
      "g\n",
      "a\n",
      "g\n",
      "e\n",
      " \n",
      "G\n",
      "P\n",
      "T\n",
      "-\n",
      "3\n",
      ".\n",
      "5\n",
      " \n",
      "d\n",
      "a\n",
      "n\n",
      "s\n",
      " \n",
      "l\n",
      "e\n",
      " \n",
      "C\n",
      "a\n",
      "d\n",
      "r\n",
      "e\n",
      " \n",
      "d\n",
      "e\n",
      " \n",
      "T\n",
      "r\n",
      "a\n",
      "v\n",
      "a\n",
      "u\n",
      "x\n",
      " \n",
      "P\n",
      "r\n",
      "a\n",
      "t\n",
      "i\n",
      "q\n",
      "u\n",
      "e\n",
      "s\n",
      " \n",
      "d\n",
      "e\n",
      " \n",
      "P\n",
      "r\n",
      "o\n",
      "g\n",
      "r\n",
      "a\n",
      "m\n",
      "m\n",
      "a\n",
      "t\n",
      "i\n",
      "o\n",
      "n\n",
      "\n",
      "\n"
     ]
    }
   ],
   "source": [
    "# exercice a.\n",
    "\n",
    "import math\n",
    "string = \"\";\n",
    "with open(\"Labo1/input2.txt\") as text: \n",
    "    string = text.readline()\n",
    "ligneTab = list(lignes)\n",
    "\n",
    "frequence = {}\n",
    "\n",
    "for i in ligneTab: \n",
    "        frequence[i] = [hex(ord(i)),round(lignes.count(i)/len(ligneTab),3)]\n",
    "sorted_frequence = sorted(frequence.items(),reverse=True,key=lambda x:x[1]);\n",
    "\n",
    "def H():\n",
    "    H = 0\n",
    "    for i in frequence: \n",
    "        H += frequence[i][1] * -math.log2(frequence[i][1])\n",
    "    return H\n",
    "\n",
    "D = math.log2(len(ligneTab));\n",
    "R = D - H();\n"
   ]
  },
  {
   "cell_type": "markdown",
   "metadata": {},
   "source": [
    "b) Afficher le taux moyen de bits par caractère de votre code, dans la console."
   ]
  },
  {
   "cell_type": "code",
   "execution_count": null,
   "metadata": {},
   "outputs": [],
   "source": [
    "# exercice b."
   ]
  },
  {
   "cell_type": "markdown",
   "metadata": {},
   "source": [
    " c) Que pouvez-vous conclure du résultat obtenu à l'exercice b) et de l’entropie du point (I.c), en une phrase ?\n"
   ]
  },
  {
   "cell_type": "markdown",
   "metadata": {},
   "source": [
    "**TODO: Réponse c)**"
   ]
  },
  {
   "cell_type": "markdown",
   "metadata": {},
   "source": [
    "d) Compressez le fichier texte d’input dans un nouveau fichier binaire (huffman.bin) à l'aide de votre arbre de codage. Si la longueur du message codé n’est pas un multiple de 8, rajoutez des bits 0 à la fin. Le\n",
    "fichier compressé doit avoir une taille sur disque significativement plus petite que\n",
    "celui que le fichier source."
   ]
  },
  {
   "cell_type": "code",
   "execution_count": null,
   "metadata": {},
   "outputs": [],
   "source": [
    "# exercice d."
   ]
  },
  {
   "cell_type": "markdown",
   "metadata": {},
   "source": [
    "e) Que manquerait-il à ce fichier binaire pour être décodé par n’importe qui ?\n",
    "(Bonus)"
   ]
  },
  {
   "cell_type": "markdown",
   "metadata": {},
   "source": [
    "**TODO: Bonus e)**"
   ]
  },
  {
   "cell_type": "markdown",
   "metadata": {},
   "source": [
    "# Bonus\n",
    "\n",
    "Codez par vous même la fonction de tri sans faire appel à la fonction `sorted()` de python"
   ]
  },
  {
   "cell_type": "code",
   "execution_count": null,
   "metadata": {},
   "outputs": [],
   "source": [
    "\n",
    "tabOfChars=['b','a','a','f'] # transformation du fichier lu en tableau de charactères\n",
    "mySortedList= tabOfChars.copy()\n",
    "def mySortedFunc(mySortedList):\n",
    "    ############# Bonus ###########\n",
    "    # insérer vos instructions ici\n",
    "    ##############################\n",
    "    return mySortedList\n"
   ]
  },
  {
   "cell_type": "code",
   "execution_count": null,
   "metadata": {},
   "outputs": [],
   "source": [
    "from IPython.display import display, HTML, Image\n",
    "\n",
    "resolved = sorted(tabOfChars) == mySortedFunc(mySortedList)\n",
    "    \n",
    "# Validation\n",
    "js_code = \"var idx = Jupyter.notebook.get_cells().length-1;\\n\"\n",
    "if resolved:\n",
    "    js_code += \"Jupyter.notebook.get_cell(idx).set_text('Bravo! ![success](https://media.tenor.com/-8Uay6X3E3UAAAAC/gil-cat.gif)');\\n\"\n",
    "else:\n",
    "    js_code += \"Jupyter.notebook.get_cell(idx).set_text('Incorrect! ![failed](https://media.tenor.com/jr9t3yabkH8AAAAC/ah-shit-here-we-go-again.gif)');\\n\"\n",
    "\n",
    "js_code += \"Jupyter.notebook.to_markdown(idx);\\nJupyter.notebook.execute_cell(idx);\"\n",
    "\n",
    "display(HTML('<script>{}</script>'.format(js_code)))"
   ]
  },
  {
   "cell_type": "markdown",
   "metadata": {},
   "source": [
    "Fin"
   ]
  },
  {
   "cell_type": "code",
   "execution_count": null,
   "metadata": {},
   "outputs": [],
   "source": []
  }
 ],
 "metadata": {
  "kernelspec": {
   "display_name": "Python 3 (ipykernel)",
   "language": "python",
   "name": "python3"
  },
  "language_info": {
   "codemirror_mode": {
    "name": "ipython",
    "version": 3
   },
   "file_extension": ".py",
   "mimetype": "text/x-python",
   "name": "python",
   "nbconvert_exporter": "python",
   "pygments_lexer": "ipython3",
   "version": "3.10.12"
  }
 },
 "nbformat": 4,
 "nbformat_minor": 4
}
