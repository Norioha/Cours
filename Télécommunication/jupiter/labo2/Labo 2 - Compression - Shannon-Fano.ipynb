{
 "cells": [
  {
   "cell_type": "markdown",
   "metadata": {},
   "source": [
    "\n",
    "# Bases des télécommunications 1\n",
    "\n",
    "Date : \n",
    "\n",
    "Étudiants : \\<Christopher Cruz \\>"
   ]
  },
  {
   "cell_type": "markdown",
   "metadata": {},
   "source": [
    "\n",
    "## __Introduction__\n",
    "\n",
    "Le but de ce laboratoire est de mettre en pratique les concepts de compression de données vus en classe de Bases des\n",
    "Télécommunications. On travaillera sur la compression d’un fichier texte\n",
    "\n",
    "- Le rendu du **jupyter notebook** doit se faire sur __cyberlearn__ sous le format de nom de fichier \"telecom_labo2_\\<nom1\\>_\\<nom2\\>.ipynb\" \n",
    "- Le fichier texte utilisé ici doit être encodé en UTF-8 (sans BOM), vous pouvez le vérifier avec Notepad++ par exemple.\n",
    "- Exemple de code python 3 pour ouvrir en lecture un fichier texte en UTF-8 : __*open(INPUT, \"r\", encoding=\"UTF-8\")*__\n"
   ]
  },
  {
   "cell_type": "markdown",
   "metadata": {},
   "source": [
    "# III. Shannon-Fano\n",
    "\n",
    "On veut construire un code de Shannon-Fano pour compresser notre fichier texte. On part du\n",
    "principe que l'arbre de codage généré n’a pas besoin d’être transmis dans le fichier compressé.\n",
    "\n",
    "a) Comme le codage de Huffman, réalisez ci-dessous un programme qui lit un fichier texte, puis générez un codage de\n",
    "Shannon-Fano pour les caractères de ce fichier. Votre programme doit afficher le code\n",
    "binaire choisi pour chaque caractère.\n",
    "\n",
    "\n",
    "Exemple :\n",
    "\n",
    "<table>\n",
    "<thead>\n",
    "    <tr>\n",
    "        <th>char</th>\n",
    "        <th>hex</th>\n",
    "        <th>binary</th>\n",
    "    </tr>\n",
    "</thead>\n",
    "<tr>\n",
    "    <td>a</td>\n",
    "    <td>0x61</td>\n",
    "    <td>11</td>\n",
    "</tr>\n",
    "<tr>\n",
    "    <td>b</td>\n",
    "    <td>0x62</td>\n",
    "    <td>10</td>\n",
    "</tr>\n",
    "<tr>\n",
    "    <td>@</td>\n",
    "    <td>0x40</td>\n",
    "    <td>00</td>\n",
    "</tr>\n",
    "<tr>\n",
    "    <td>c</td>\n",
    "    <td>0x63</td>\n",
    "    <td>011</td>\n",
    "</tr>\n",
    "<tr>\n",
    "    <td>A</td>\n",
    "    <td>0x41</td>\n",
    "    <td>010</td>\n",
    "</tr>\n",
    "</table>"
   ]
  },
  {
   "cell_type": "code",
   "execution_count": 27,
   "metadata": {},
   "outputs": [
    {
     "name": "stdout",
     "output_type": "stream",
     "text": [
      "| lettre|héxa|Binaire |\n",
      "| --- | --- |-----\n",
      "|   | 0x20 | 000 |\n",
      "| e | 0x65 | 001 |\n",
      "| t | 0x74 | 0100 |\n",
      "| u | 0x75 | 0101 |\n",
      "| s | 0x73 | 0110 |\n",
      "| a | 0x61 | 0111 |\n",
      "| n | 0x6e | 10000 |\n",
      "| r | 0x72 | 10001 |\n",
      "| i | 0x69 | 1001 |\n",
      "| o | 0x6f | 1010 |\n",
      "| l | 0x6c | 1011 |\n",
      "| d | 0x64 | 11000 |\n",
      "| m | 0x6d | 11001 |\n",
      "| p | 0x70 | 110100 |\n",
      "| c | 0x63 | 110101 |\n",
      "| . | 0x2e | 11011 |\n",
      "| ' | 0x27 | 1110000 |\n",
      "| x | 0x78 | 1110001 |\n",
      "| é | 0xe9 | 111001 |\n",
      "| v | 0x76 | 1110100 |\n",
      "| L | 0x4c | 1110101 |\n",
      "| I | 0x49 | 111011 |\n",
      "| q | 0x71 | 1111000 |\n",
      "| D | 0x44 | 1111001 |\n",
      "| b | 0x62 | 1111010 |\n",
      "| \n",
      " | 0xa | 1111011 |\n",
      "| g | 0x67 | 1111100 |\n",
      "| C | 0x43 | 1111101 |\n",
      "| è | 0xe8 | 11111100 |\n",
      "| f | 0x66 | 11111101 |\n",
      "| ç | 0xe7 | 11111110 |\n",
      "| à | 0xe0 | 111111110 |\n",
      "| , | 0x2c | 111111111 |\n"
     ]
    }
   ],
   "source": [
    "from collections import Counter\n",
    "\n",
    "# Calculer la fréquence de chaque caractère dans le texte\n",
    "def calc_freq(text):\n",
    "    return Counter(text)\n",
    "\n",
    "# Diviser l'ensemble de symboles en deux parties de fréquences totales aussi égales que possible\n",
    "def divide_frequencies(freqs):\n",
    "    sorted_freqs = sorted(freqs.items(), key=lambda x: -x[1])\n",
    "    total = sum(f for _, f in sorted_freqs)\n",
    "    mid = total // 2\n",
    "    current = 0\n",
    "    divider = 0\n",
    "    while current < mid:\n",
    "        current += sorted_freqs[divider][1]\n",
    "        divider += 1\n",
    "    return dict(sorted_freqs[:divider]), dict(sorted_freqs[divider:])\n",
    "\n",
    "# Attribuer un bit binaire à chaque partie et répéter le processus pour chaque sous-ensemble\n",
    "def shannon_fano_codes(freqs, prefix=''):\n",
    "    if len(freqs) == 1:\n",
    "        return {list(freqs.keys())[0]: prefix or '0'}\n",
    "    group1, group2 = divide_frequencies(freqs)\n",
    "    codes = {}\n",
    "    codes.update(shannon_fano_codes(group1, prefix + '0'))\n",
    "    codes.update(shannon_fano_codes(group2, prefix + '1'))\n",
    "    return codes\n",
    "\n",
    "# Compresser le texte en utilisant le dictionnaire de codes\n",
    "def compress(text):\n",
    "    freq_dict = calc_freq(text)\n",
    "    codes = shannon_fano_codes(freq_dict)\n",
    "    compressed_text = \"\".join([codes[char] for char in text])\n",
    "    return compressed_text, codes\n",
    "\n",
    "def print_codes(codes):\n",
    "    print(\"| lettre|héxa|Binaire |\")\n",
    "    print(\"| --- | --- |-----\")\n",
    "    for key, value in codes.items():\n",
    "        print(f\"| {key} | {hex(ord(key))} | {value} |\")\n",
    "\n",
    "def get_Codes():\n",
    "    with open('input.txt','r' ,encoding='UTF-8') as file:\n",
    "        text = file.read()\n",
    "        compressed_text, codes = compress(text)\n",
    "    return codes\n",
    "\n",
    "def get_Compressed():\n",
    "    with open('input.txt','r' ,encoding='UTF-8') as file:\n",
    "        text = file.read()\n",
    "        compressed_text, codes = compress(text)\n",
    "    return compressed_text\n",
    "# Fonction principale pour tester l'algorithme\n",
    "def main():\n",
    "    codes = get_Codes()\n",
    "    #print(f\"Texte compréssé: {compressed_text}\")\n",
    "    print_codes(codes)\n",
    "\n",
    "# Appeler la fonction principale\n",
    "if __name__ == \"__main__\":\n",
    "    main()\n"
   ]
  },
  {
   "cell_type": "markdown",
   "metadata": {},
   "source": [
    "b) Afficher le taux moyen de bits par caractère de votre code, dans la console."
   ]
  },
  {
   "cell_type": "code",
   "execution_count": 26,
   "metadata": {},
   "outputs": [
    {
     "name": "stdout",
     "output_type": "stream",
     "text": [
      "5.909090909090909\n"
     ]
    }
   ],
   "source": [
    "# exercice b.\n",
    "codes = get_Codes()\n",
    "byteSum = 0\n",
    "for value, code in codes.items():\n",
    "    #print(f\"0x{value}: {code}\")\n",
    "    byteSum += len(code)\n",
    "\n",
    "AverageBytes = byteSum / len(codes)\n",
    "print(AverageBytes)"
   ]
  },
  {
   "cell_type": "markdown",
   "metadata": {},
   "source": [
    " c) Que pouvez-vous conclure du résultat obtenu à l'exercice b) et de l’entropie du point (I.c), en une phrase ?\n"
   ]
  },
  {
   "cell_type": "markdown",
   "metadata": {},
   "source": [
    "**TODO: Réponse c)**"
   ]
  },
  {
   "cell_type": "markdown",
   "metadata": {},
   "source": [
    "d) Compresser le fichier texte d’input dans un nouveau fichier binaire à l'aide de votre arbre de codage. Si la longueur du message codé n’est pas un multiple de 8, rajouter des bits 0 à la fin. Le\n",
    "fichier compressé doit avoir une taille sur disque significativement plus petite que\n",
    "celui de base."
   ]
  },
  {
   "cell_type": "code",
   "execution_count": 28,
   "metadata": {},
   "outputs": [],
   "source": [
    "# exercice d.\n",
    "compressed_text = get_Compressed()\n",
    "\n",
    "#ajout de 0 pour que la longueur du text soit un multiple de 8\n",
    "while len(compressed_text) % 8 != 0:\n",
    "    compressed_text += '0'\n",
    "# Écrire la séquence binaire compressée dans un fichier binaire (.bin)\n",
    "with open('shannonfano.bin', 'wb') as bin_file:\n",
    "    #conversion bits en bytes\n",
    "    byte_data = bytes(int(compressed_text[i:i+8], 2) for i in range(0, len(compressed_text), 8))\n",
    "    bin_file.write(byte_data)"
   ]
  },
  {
   "cell_type": "markdown",
   "metadata": {},
   "source": [
    "e) Que manquerait-il a ce fichier binaire pour pouvoir être décodé par n’importe qui ?\n",
    "(Bonus)"
   ]
  },
  {
   "cell_type": "markdown",
   "metadata": {},
   "source": [
    "**TODO: Bonus e)**"
   ]
  },
  {
   "cell_type": "markdown",
   "metadata": {},
   "source": [
    "# IV. Bonus"
   ]
  },
  {
   "cell_type": "markdown",
   "metadata": {},
   "source": [
    "⚠️ Difficile ⚠️ Pas obligatoire\n",
    "\n",
    "Implémentez par vos moyens la compression de Lempel-Ziv-Welch ([Wikipedia](https://en.wikipedia.org/wiki/Lempel%E2%80%93Ziv%E2%80%93Welch)) et réalisez une étude comparative de cette méthode avec celles vues en cours."
   ]
  },
  {
   "cell_type": "code",
   "execution_count": null,
   "metadata": {},
   "outputs": [],
   "source": []
  }
 ],
 "metadata": {
  "kernelspec": {
   "display_name": "Python 3 (ipykernel)",
   "language": "python",
   "name": "python3"
  },
  "language_info": {
   "codemirror_mode": {
    "name": "ipython",
    "version": 3
   },
   "file_extension": ".py",
   "mimetype": "text/x-python",
   "name": "python",
   "nbconvert_exporter": "python",
   "pygments_lexer": "ipython3",
   "version": "3.10.12"
  }
 },
 "nbformat": 4,
 "nbformat_minor": 4
}
